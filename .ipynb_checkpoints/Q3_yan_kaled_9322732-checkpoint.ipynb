{
 "cells": [
  {
   "cell_type": "markdown",
   "metadata": {},
   "source": [
    "## Tarefa 1: Métodos de um Passo"
   ]
  },
  {
   "cell_type": "markdown",
   "metadata": {},
   "source": [
    "### Questão 3"
   ]
  },
  {
   "cell_type": "markdown",
   "metadata": {},
   "source": [
    "Neste estudo, vamos aproximar o valor da segunda coordenada, $y$, da trajetória de um robô, cuja velocidade, para tal coordenada, é:\n",
    "\n",
    "$$\n",
    "\\dot{y}(t) = e^{t}\\left( sin(wt) + wcos(wt) \\right)\n",
    "$$\n",
    "\n",
    "Partindo do ponto $y(0) = 1$, e com $w = 2$ radianos por segundo.\n",
    "\n",
    "Usaremos o método de Euler, um tradicional método de passo único.\n",
    "Os métodos de passo único atualizam calculam recursivamente as soluções de uma equação diferencial ordinária, de acordo com a forma geral $y_{k+1} = y_{k} + \\Delta t \\phi(t_k, y_k, n)$, onde $\\Delta t = \\dfrac{t_f - t_0}{n}$, com $t_k \\in \\{t_0, t_1, \\cdots, t_f\\}$, e $t_0$ e $t_f$ definindo o intervalo de aproximação.\n",
    "\n",
    "A função $\\phi$ depende do método utilizado, e equivale, no método de Euler, à função $f(t, y(t))$ - pré-definida e que modela o a variação de $y$ com $t$ no problema proposto. A lógica de construção do método de Euler vem da consideração de uma expressão aproximada para a derivada de uma função $y$:\n",
    "\n",
    "$$\n",
    "\\dot{y}(t) \\approx \\dfrac{y(t + \\Delta t) - y(t)}{\\Delta t}\n",
    "$$\n",
    "\n",
    "Daí, temos que $y(t + \\Delta t) \\approx \\Delta t \\dot{y}(t) + y(t) = \\Delta t f(t,y(t)) + y(t)$, e essa expressão induz a definição do método:\n",
    "\n",
    "$$\n",
    "y_{k+1} = y_k + \\Delta t f(t,y(t)) \\\\\n",
    "t_{k+1} = t_k + k\\Delta t\n",
    "$$\n",
    "\n",
    "Comparando a expressão da aproximação da derivada da função $y$ com a derivada exata:\n",
    "\n",
    "$$\n",
    "\\dot{y}(t) = \\lim_{\\Delta t \\to 0 } \\dfrac{y(t + \\Delta t) - y(t)}{\\Delta t}\n",
    "$$\n",
    "\n",
    "Notamos que, conforme $\\Delta t$ se aproxima de $0$, a erro do método de Euler deve tender à $0$ - como é demonstrado na teoria do método."
   ]
  },
  {
   "cell_type": "markdown",
   "metadata": {},
   "source": [
    "### Implementação"
   ]
  },
  {
   "cell_type": "code",
   "execution_count": 1,
   "metadata": {},
   "outputs": [],
   "source": [
    "#as bibliotecas numpy, matplotlib e math serão usadas ao longo do estudo\n",
    "import numpy as np\n",
    "import matplotlib.pyplot as plt\n",
    "import math"
   ]
  },
  {
   "cell_type": "markdown",
   "metadata": {},
   "source": [
    "Vamos definir a função $f$ do problema, tal que:\n",
    "\n",
    "$$\n",
    "\\dot{y}(t) = f(t, y(t))\n",
    "$$"
   ]
  },
  {
   "cell_type": "code",
   "execution_count": 2,
   "metadata": {},
   "outputs": [],
   "source": [
    "#as funções cos e sin da biblioteca math recebem valores em radianos\n",
    "def f(t_k, y_k):\n",
    "    return math.exp(t_k)*(math.sin(2*t_k) + 2*math.cos(2*t_k))"
   ]
  },
  {
   "cell_type": "markdown",
   "metadata": {},
   "source": [
    "O problema proposto induz a aproximação da função no intervalo $[0, 1]$, pois $t_0 = 0$, e queremos aproximar $y(1)$ - ou seja, $t_f = 1$. Analisaremos os resultados do método para diversos valores de $n$.\n",
    "\n",
    "Agora, vamos definir uma função que implementa o método de Euler."
   ]
  },
  {
   "cell_type": "code",
   "execution_count": 3,
   "metadata": {},
   "outputs": [],
   "source": [
    "def euler(t_0, t_f, n, f, y_0):\n",
    "    y = np.zeros(n)\n",
    "    np.append(y, y_0)\n",
    "    delta_t = (t_f - t_0) / n\n",
    "    print(\"delta_t: \", delta_t)\n",
    "    t = np.linspace(t_0, t_f, n)\n",
    "    for k in range(0, n-1):\n",
    "        y[k+1] = y[k] + delta_t * f(t[k], y[k])\n",
    "        \n",
    "    return t,y"
   ]
  },
  {
   "cell_type": "code",
   "execution_count": 12,
   "metadata": {},
   "outputs": [
    {
     "name": "stdout",
     "output_type": "stream",
     "text": [
      "('delta_t: ', 0.001)\n"
     ]
    }
   ],
   "source": [
    "T, Y_ = euler(0.0, 1.0, 1000, f, 1.0)"
   ]
  },
  {
   "cell_type": "code",
   "execution_count": 16,
   "metadata": {},
   "outputs": [
    {
     "data": {
      "text/plain": [
       "2.4701489567177299"
      ]
     },
     "execution_count": 16,
     "metadata": {},
     "output_type": "execute_result"
    }
   ],
   "source": [
    "Y_[-1]"
   ]
  },
  {
   "cell_type": "code",
   "execution_count": 14,
   "metadata": {},
   "outputs": [],
   "source": [
    "def Y(t):\n",
    "    return math.exp(t)*math.sin(2*t)"
   ]
  },
  {
   "cell_type": "code",
   "execution_count": 15,
   "metadata": {},
   "outputs": [
    {
     "data": {
      "text/plain": [
       "2.4717266720048188"
      ]
     },
     "execution_count": 15,
     "metadata": {},
     "output_type": "execute_result"
    }
   ],
   "source": [
    "Y(1)"
   ]
  }
 ],
 "metadata": {
  "kernelspec": {
   "display_name": "Python 3",
   "language": "python",
   "name": "python3"
  },
  "language_info": {
   "codemirror_mode": {
    "name": "ipython",
    "version": 2
   },
   "file_extension": ".py",
   "mimetype": "text/x-python",
   "name": "python",
   "nbconvert_exporter": "python",
   "pygments_lexer": "ipython2",
   "version": "2.7.15+"
  }
 },
 "nbformat": 4,
 "nbformat_minor": 2
}
