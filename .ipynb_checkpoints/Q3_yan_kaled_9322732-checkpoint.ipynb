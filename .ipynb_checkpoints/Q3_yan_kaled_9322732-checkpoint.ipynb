{
 "cells": [
  {
   "cell_type": "markdown",
   "metadata": {},
   "source": [
    "## Tarefa 1: Métodos de um Passo"
   ]
  },
  {
   "cell_type": "markdown",
   "metadata": {},
   "source": [
    "### Questão 3"
   ]
  },
  {
   "cell_type": "markdown",
   "metadata": {},
   "source": [
    "Neste estudo, vamos aproximar o valor da segunda coordenada, $y$, da trajetória de um robô, cuja velocidade, para tal coordenada, é:\n",
    "\n",
    "$$\n",
    "\\dot{y}(t) = e^{t}\\left( sin(wt) + wcos(wt) \\right)\n",
    "$$\n",
    "\n",
    "Partindo do ponto $y(0) = 1$, e com $w = 2$ radianos por segundo.\n",
    "\n",
    "Usaremos o método de Euler, um tradicional método de passo único.\n",
    "Os métodos de passo único atualizam calculam recursivamente as soluções de uma equação diferencial ordinária, de acordo com a forma geral $y_{k+1} = y_{k} + \\Delta t \\phi(t_k, y_k, n)$, onde $\\Delta t = \\dfrac{t_f - t_0}{n}$, com $t_k \\in \\{t_0, t_1, \\cdots, t_f\\}$, e $t_0$ e $t_f$ definindo o intervalo de aproximação.\n",
    "\n",
    "A função $\\phi$ depende do método utilizado, e equivale, no método de Euler, à função $f(t, y(t))$ - pré-definida e que modela o a variação de $y$ com $t$ no problema proposto. A lógica de construção do método de Euler vem da consideração de uma expressão aproximada para a derivada de uma função $y$:\n",
    "\n",
    "$$\n",
    "\\dot{y}(t) \\approx \\dfrac{y(t + \\Delta t) - y(t)}{\\Delta t}\n",
    "$$\n",
    "\n",
    "Daí, temos que $y(t + \\Delta t) \\approx \\Delta t \\dot{y}(t) + y(t) = \\Delta t f(t,y(t)) + y(t)$, e essa expressão induz a definição do método:\n",
    "\n",
    "$$\n",
    "y_{k+1} = y_k + \\Delta t f(t,y(t)) \\\\\n",
    "t_{k+1} = t_k + k\\Delta t\n",
    "$$\n",
    "\n",
    "Comparando a expressão da aproximação da derivada da função $y$ com a derivada exata:\n",
    "\n",
    "$$\n",
    "\\dot{y}(t) = \\lim_{\\Delta t \\to 0 } \\dfrac{y(t + \\Delta t) - y(t)}{\\Delta t}\n",
    "$$\n",
    "\n",
    "Notamos que, conforme $\\Delta t$ se aproxima de $0$, a erro do método de Euler deve tender à $0$ - como é demonstrado na teoria do método."
   ]
  },
  {
   "cell_type": "markdown",
   "metadata": {},
   "source": [
    "### Implementação"
   ]
  },
  {
   "cell_type": "code",
   "execution_count": 2,
   "metadata": {},
   "outputs": [],
   "source": [
    "#as bibliotecas numpy, matplotlib e math serão usadas ao longo do estudo\n",
    "import numpy as np\n",
    "import matplotlib.pyplot as plt\n",
    "import math"
   ]
  },
  {
   "cell_type": "markdown",
   "metadata": {},
   "source": [
    "Vamos definir a função $f$ do problema, tal que:\n",
    "\n",
    "$$\n",
    "\\dot{y}(t) = f(t, y(t))\n",
    "$$"
   ]
  },
  {
   "cell_type": "code",
   "execution_count": 3,
   "metadata": {},
   "outputs": [],
   "source": [
    "#as funções cos e sin da biblioteca math recebem valores em radianos\n",
    "def f(t_k, y_k):\n",
    "    return math.exp(t_k)*(math.sin(2*t_k) + 2*math.cos(2*t_k))"
   ]
  },
  {
   "cell_type": "markdown",
   "metadata": {},
   "source": [
    "O problema proposto induz a aproximação da função no intervalo $[0, 1]$, pois $t_0 = 0$, e queremos aproximar $y(1)$ - ou seja, $t_f = 1$. Analisaremos os resultados do método para diversos valores de $n$.\n",
    "\n",
    "Agora, vamos definir uma função que implementa o método de Euler."
   ]
  },
  {
   "cell_type": "code",
   "execution_count": 4,
   "metadata": {},
   "outputs": [],
   "source": [
    "#Esta implementação funciona para qualquer função de uma variávei para a qual o método de euler seja adequado.\n",
    "#Como a função Phi do método de euler retorna a própria f, esta foi utilizada diretamente no algoritmo.\n",
    "def euler(t_0, t_f, n, f, y_0):\n",
    "    y = np.zeros(n)\n",
    "    y[0] = y_0\n",
    "    delta = (t_f - t_0) / n\n",
    "    t = 0\n",
    "    ts =[]\n",
    "    ts.append(t)\n",
    "    for k in range(int(n-1)):\n",
    "        y[k+1] = y[k] + delta * f(t, y[k])\n",
    "        t = t + delta\n",
    "        ts.append(t)\n",
    "        \n",
    "    return ts,y"
   ]
  },
  {
   "cell_type": "code",
   "execution_count": 5,
   "metadata": {},
   "outputs": [],
   "source": [
    "#Esta função corresponde à phi do método de euler modificado\n",
    "def phi(tk, yk, delta, f):\n",
    "    return 0.5 * (f(tk, yk) + f(tk + delta, yk + delta*f(tk, yk)))"
   ]
  },
  {
   "cell_type": "code",
   "execution_count": 18,
   "metadata": {},
   "outputs": [],
   "source": [
    "def euler_modificado(t0, tf, n, f, PHI, y0):\n",
    "    y = np.zeros(n)\n",
    "    y[0] = y0\n",
    "    delta = (tf - t0) / n\n",
    "    t = 0\n",
    "    ts =[]\n",
    "    ts.append(t)\n",
    "    for k in range(0, n-1):\n",
    "        y[k+1] = y[k] + delta * PHI(t, y[k], delta, f)\n",
    "        t = t + delta\n",
    "        ts.append(t)\n",
    "        \n",
    "    return ts,y"
   ]
  },
  {
   "cell_type": "code",
   "execution_count": 7,
   "metadata": {},
   "outputs": [],
   "source": [
    "def phi_runge_kutta(tk, yk, delta, f):\n",
    "    k1 = f(tk, yk)\n",
    "    k2 = f(tk + delta/2, yk + delta*k1/2)\n",
    "    k3 = f(tk + delta/2, yk + delta*k2/2)\n",
    "    k4 = f(tk + delta, yk + delta*k3)\n",
    "    \n",
    "    return (1/6)*(k1 + 2*k2 + 2*k3 + k4)"
   ]
  },
  {
   "cell_type": "code",
   "execution_count": 10,
   "metadata": {},
   "outputs": [],
   "source": [
    "def runge_kutta(t0, tf, n, f, PHI, y0):\n",
    "    y = np.zeros(n)\n",
    "    y[0] = y0\n",
    "    delta = (tf - t0) / n\n",
    "    t = 0\n",
    "    ts = []\n",
    "    ts.append(t)\n",
    "    for k in range(0, n-1):\n",
    "        y[k+1] = y[k] + delta * PHI(t, y[k], delta, f)\n",
    "        t = t + delta\n",
    "        ts.append(t)\n",
    "        \n",
    "    return ts,y"
   ]
  },
  {
   "cell_type": "markdown",
   "metadata": {},
   "source": [
    "Integrando a função $\\dot{y}(t)$, pelo teorema fundamental do cálculo, encontramos a função $y(t)$:\n",
    "\n",
    "$$\n",
    "\\int \\dot{y}(t) dt = \\int e^{t}\\left( sin(wt) + wcos(wt) \\right) dt = e^t sin(wt) + C\n",
    "$$\n",
    "\n",
    "Pela condição inicial do problema, $y(0) = 1$, segue que $C = 1$."
   ]
  },
  {
   "cell_type": "code",
   "execution_count": 11,
   "metadata": {},
   "outputs": [],
   "source": [
    "def Y(t):\n",
    "    return math.exp(t)*math.sin(2*t) + 1"
   ]
  },
  {
   "cell_type": "code",
   "execution_count": 12,
   "metadata": {},
   "outputs": [
    {
     "data": {
      "text/plain": [
       "3.4717266720048188"
      ]
     },
     "execution_count": 12,
     "metadata": {},
     "output_type": "execute_result"
    }
   ],
   "source": [
    "#Invocando a função no ponto 1, conseguimos, no python, o valor mais próximo do valor teórico\n",
    "Y(1)"
   ]
  },
  {
   "cell_type": "markdown",
   "metadata": {},
   "source": [
    "### Resultados"
   ]
  },
  {
   "cell_type": "markdown",
   "metadata": {},
   "source": [
    "Agora, analisaremos os resultados dos dois métodos: Euler e Euler modificado."
   ]
  },
  {
   "cell_type": "code",
   "execution_count": 14,
   "metadata": {},
   "outputs": [
    {
     "data": {
      "image/png": "[encoded data removed]",
      "text/plain": [
       "<Figure size 432x288 with 1 Axes>"
      ]
     },
     "metadata": {
      "needs_background": "light"
     },
     "output_type": "display_data"
    }
   ],
   "source": [
    "plt.figure()\n",
    "\n",
    "ns = [4, 8, 16, 32, 64]\n",
    "\n",
    "# Aproximacoes de x para diferentes n's\n",
    "for n in ns:\n",
    "    T, Y_ = euler(0.0, 1.0, n, f, 1.0)\n",
    "    plt.plot(T, Y_, label = 'n='+str(n))\n",
    "\n",
    "plt.title('Euler')\n",
    "plt.xlabel('t')\n",
    "plt.ylabel('y(t)')\n",
    "\n",
    "plt.grid(True)\n",
    "plt.legend()\n",
    "plt.show()"
   ]
  },
  {
   "cell_type": "markdown",
   "metadata": {},
   "source": [
    "Nota-se que, com o método de euler, a partir de $n=64$, as linhas ficam \"grudadas\" a olho nu. Vamos analisar o erro desse método, comparando o resultado aproximado de $y(1)$ com o resultado - mais próximo do - real encontrado a partir da chamada da função $Y$ definida acima:"
   ]
  },
  {
   "cell_type": "code",
   "execution_count": 15,
   "metadata": {},
   "outputs": [
    {
     "data": {
      "text/plain": [
       "[<matplotlib.lines.Line2D at 0x7fdf48b27860>]"
      ]
     },
     "execution_count": 15,
     "metadata": {},
     "output_type": "execute_result"
    },
    {
     "data": {
      "image/png": "[encoded data removed]",
      "text/plain": [
       "<Figure size 432x288 with 1 Axes>"
      ]
     },
     "metadata": {
      "needs_background": "light"
     },
     "output_type": "display_data"
    }
   ],
   "source": [
    "ns = [4, 8, 16, 32, 64, 128, 256, 512, 1024]\n",
    "erro = []\n",
    "for n in ns:\n",
    "    T, Y_ = euler(0.0, 1.0, n, f, 1.0)\n",
    "    erro.append(Y_[-1] - Y(1))\n",
    "erro_euler = [math.fabs(e) for e in erro]\n",
    "ns = ['4', '8', '16', '32', '64', '128', '256', '512', '1024']\n",
    "\n",
    "plt.figure()\n",
    "plt.title('Erro de Euler')\n",
    "plt.xlabel('n')\n",
    "plt.ylabel('Erro')\n",
    "plt.plot(ns, erro_euler)"
   ]
  },
  {
   "cell_type": "code",
   "execution_count": 16,
   "metadata": {},
   "outputs": [
    {
     "data": {
      "text/plain": [
       "[0.46216714042697093,\n",
       " 0.0970089587551679,\n",
       " 0.005891464381114542,\n",
       " 0.00886256147598452,\n",
       " 0.007527406201564446,\n",
       " 0.004555669895404346,\n",
       " 0.0024780624801192808,\n",
       " 0.0012893671687113084,\n",
       " 0.000657302418441752]"
      ]
     },
     "execution_count": 16,
     "metadata": {},
     "output_type": "execute_result"
    }
   ],
   "source": [
    "erro_euler"
   ]
  },
  {
   "cell_type": "markdown",
   "metadata": {},
   "source": [
    "Nota-se que, a partir de $n=64$, o erro se torna bastante pequeno, como era esperado pela análise do gráfico.\n",
    "Agora, vamos analisar os resultados do método de euler modificado"
   ]
  },
  {
   "cell_type": "code",
   "execution_count": 19,
   "metadata": {},
   "outputs": [
    {
     "data": {
      "image/png": "[encoded data removed]",
      "text/plain": [
       "<Figure size 432x288 with 1 Axes>"
      ]
     },
     "metadata": {
      "needs_background": "light"
     },
     "output_type": "display_data"
    }
   ],
   "source": [
    "plt.figure()\n",
    "\n",
    "ns = [4, 8, 16, 32, 64]\n",
    "\n",
    "# Aproximacoes de x para diferentes n's\n",
    "for n in ns:\n",
    "    T, Y_ = euler_modificado(0.0, 1.0, n, f, phi, 1.0)\n",
    "    plt.plot(T, Y_, label = 'n='+str(n))\n",
    "\n",
    "plt.title('Euler Modificado')\n",
    "plt.xlabel('t')\n",
    "plt.ylabel('y(t)')\n",
    "\n",
    "plt.grid(True)\n",
    "plt.legend()\n",
    "plt.show()"
   ]
  },
  {
   "cell_type": "markdown",
   "metadata": {},
   "source": [
    "Mais uma vez, notamos que a partir de $n=64$ as funções se tornam muito próximas visualmente"
   ]
  },
  {
   "cell_type": "code",
   "execution_count": 31,
   "metadata": {},
   "outputs": [
    {
     "data": {
      "text/plain": [
       "[<matplotlib.lines.Line2D at 0x7fdf488b5fd0>]"
      ]
     },
     "execution_count": 31,
     "metadata": {},
     "output_type": "execute_result"
    },
    {
     "data": {
      "image/png": "[encoded data removed]",
      "text/plain": [
       "<Figure size 432x288 with 1 Axes>"
      ]
     },
     "metadata": {
      "needs_background": "light"
     },
     "output_type": "display_data"
    }
   ],
   "source": [
    "ns = [4, 8, 16, 32, 64, 128, 256, 512, 1024, 2048]\n",
    "erro = []\n",
    "for n in ns:\n",
    "    T, Y_ = euler_modificado(0.0, 1.0, n, f, phi, 1.0)\n",
    "    erro.append(Y_[-1] - Y(1))\n",
    "erro_euler_modificado = [math.fabs(e) for e in erro]\n",
    "ns = ['4', '8', '16', '32', '64', '128', '256', '512', '1024', '2048']\n",
    "\n",
    "plt.figure()\n",
    "plt.title('Erro de Euler Modificado')\n",
    "plt.xlabel('n')\n",
    "plt.ylabel('Erro')\n",
    "plt.plot(ns, erro_euler_modificado)"
   ]
  },
  {
   "cell_type": "code",
   "execution_count": 32,
   "metadata": {},
   "outputs": [
    {
     "data": {
      "text/plain": [
       "[0.4107673632490756,\n",
       " 0.1279289925503302,\n",
       " 0.04006108355231497,\n",
       " 0.013477637964465217,\n",
       " 0.005028596404772934,\n",
       " 0.0020777766821167276,\n",
       " 0.0009286401590298254,\n",
       " 0.0004366185184161431,\n",
       " 0.00021136644342600874,\n",
       " 0.00010394534047097892]"
      ]
     },
     "execution_count": 32,
     "metadata": {},
     "output_type": "execute_result"
    }
   ],
   "source": [
    "erro_euler_modificado"
   ]
  },
  {
   "cell_type": "markdown",
   "metadata": {},
   "source": [
    "Pela comparação dos erros, notamos que os dois métodos convergem bem. Vamos, agora, analisar o método de Runge-Kutta:"
   ]
  },
  {
   "cell_type": "code",
   "execution_count": 25,
   "metadata": {},
   "outputs": [
    {
     "data": {
      "image/png": "[encoded data removed]",
      "text/plain": [
       "<Figure size 432x288 with 1 Axes>"
      ]
     },
     "metadata": {
      "needs_background": "light"
     },
     "output_type": "display_data"
    }
   ],
   "source": [
    "plt.figure()\n",
    "\n",
    "ns = [4, 8, 16, 32, 64]\n",
    "\n",
    "# Aproximacoes de x para diferentes n's\n",
    "for n in ns:\n",
    "    T, Y_ = runge_kutta(0.0, 1.0, n, f, phi_runge_kutta, 1.0)\n",
    "    plt.plot(T, Y_, label = 'n='+str(n))\n",
    "\n",
    "plt.title('Runge-Kutta Clássico')\n",
    "plt.xlabel('t')\n",
    "plt.ylabel('y(t)')\n",
    "\n",
    "plt.grid(True)\n",
    "plt.legend()\n",
    "plt.show()"
   ]
  },
  {
   "cell_type": "code",
   "execution_count": 29,
   "metadata": {},
   "outputs": [
    {
     "data": {
      "text/plain": [
       "[<matplotlib.lines.Line2D at 0x7fdf83498320>]"
      ]
     },
     "execution_count": 29,
     "metadata": {},
     "output_type": "execute_result"
    },
    {
     "data": {
      "image/png": "[encoded data removed]",
      "text/plain": [
       "<Figure size 432x288 with 1 Axes>"
      ]
     },
     "metadata": {
      "needs_background": "light"
     },
     "output_type": "display_data"
    }
   ],
   "source": [
    "ns = [4, 8, 16, 32, 64, 128, 256, 512, 1024, 2048]\n",
    "erro = []\n",
    "for n in ns:\n",
    "    T, Y_ = runge_kutta(0.0, 1.0, n, f, phi_runge_kutta, 1.0)\n",
    "    erro.append(Y_[-1] - Y(1))\n",
    "erro_runge_kutta = [math.fabs(e) for e in erro]\n",
    "ns = ['4', '8', '16', '32', '64', '128', '256', '512', '1024', '2048']\n",
    "\n",
    "plt.figure()\n",
    "plt.title('Erro de Runge-Kutta Clássico')\n",
    "plt.xlabel('n')\n",
    "plt.ylabel('Erro')\n",
    "plt.plot(ns, erro_runge_kutta)"
   ]
  },
  {
   "cell_type": "code",
   "execution_count": 30,
   "metadata": {},
   "outputs": [
    {
     "data": {
      "text/plain": [
       "[0.36002267537579646,\n",
       " 0.11126559912793521,\n",
       " 0.03538314406711551,\n",
       " 0.012244112782792804,\n",
       " 0.00471223960030942,\n",
       " 0.001997693414121926,\n",
       " 0.0009084952959441672,\n",
       " 0.00043156681118983187,\n",
       " 0.00021010158111156585,\n",
       " 0.00010362888301029827]"
      ]
     },
     "execution_count": 30,
     "metadata": {},
     "output_type": "execute_result"
    }
   ],
   "source": [
    "erro_runge_kutta"
   ]
  },
  {
   "cell_type": "markdown",
   "metadata": {},
   "source": [
    "### Conclusão"
   ]
  },
  {
   "cell_type": "markdown",
   "metadata": {},
   "source": [
    "Notamos que os três métodos convergem bem, e, por volta de $n=64$, as linhas se sobrepõe a olho nu e na escala padrão do python. Notou-se, também, que o método de euler performou ligeiramente melhor que os outros na região analisada neste problema, mas as diferenças de performance são pequenas."
   ]
  }
 ],
 "metadata": {
  "kernelspec": {
   "display_name": "Python 3",
   "language": "python",
   "name": "python3"
  },
  "language_info": {
   "codemirror_mode": {
    "name": "ipython",
    "version": 3
   },
   "file_extension": ".py",
   "mimetype": "text/x-python",
   "name": "python",
   "nbconvert_exporter": "python",
   "pygments_lexer": "ipython3",
   "version": "3.6.8"
  }
 },
 "nbformat": 4,
 "nbformat_minor": 2
}
