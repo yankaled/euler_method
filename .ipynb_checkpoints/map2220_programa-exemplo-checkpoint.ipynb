{
 "cells": [
  {
   "cell_type": "markdown",
   "metadata": {
    "colab_type": "text",
    "id": "xiEXO258JfAH"
   },
   "source": [
    "# MAP2220 - Programa-Exemplo\n",
    "\n",
    "Autor: Lucas de Oliveira Lyra"
   ]
  },
  {
   "cell_type": "markdown",
   "metadata": {
    "colab_type": "text",
    "id": "OQ1b8sDchI6U"
   },
   "source": [
    "Este notebook apresenta um exemplo de resolução de equações diferenciais ordinárias (EDO) de primeira ordem com métodos de passo único explícito"
   ]
  },
  {
   "cell_type": "markdown",
   "metadata": {
    "colab_type": "text",
    "id": "zyNzVTrNJ40R"
   },
   "source": [
    "## Introdução"
   ]
  },
  {
   "cell_type": "markdown",
   "metadata": {
    "colab_type": "text",
    "id": "Xx1RBSJYYySx"
   },
   "source": [
    "Este exemplo calcula estimativas númericas para solução de equações da forma \\\\\n",
    "$ \\mathbf{x'}(t) = f(t,\\mathbf{x}(t)) $ \\\\\n",
    "onde  $ \\mathbf{x} \\in \\mathbb{R}^N$."
   ]
  },
  {
   "cell_type": "markdown",
   "metadata": {
    "colab_type": "text",
    "id": "Izrak_4SK2Nr"
   },
   "source": [
    "Para isso, inicialmente, definimos um intervalo de tempo $[t_0,t_f]$ no qual estamos interessados em estimar $\\mathbf{x}(t)$. \\\\\n",
    "Vamos, então, discretizar este intervalo, dividindo-o em $n$ subintervalos. O tamanho de cada intervalo de tempo é dado por $h = \\frac{t_f-t_0}{n}$. \\\\\n",
    "Seja $t_i = t_0 + i\\cdot h$ para $i=1,\\cdots,n$. Denotaremos por $\\mathbf{x}_i$ o valor numérico estimado para $\\mathbf{x}(t_i)$."
   ]
  },
  {
   "cell_type": "markdown",
   "metadata": {
    "colab_type": "text",
    "id": "Cj_e_9PbQqx6"
   },
   "source": [
    "Um método numérico de passo único explícito estima a solução da seguinte forma: \\\\\n",
    "$ \\mathbf{x}_{i+1} = \\mathbf{x}_i + h\\cdot \\Phi(t_i, \\mathbf{x}_i, h) $ \\\\\n",
    "onde a função $\\Phi$ depende do método numérico implementado."
   ]
  },
  {
   "cell_type": "markdown",
   "metadata": {
    "colab_type": "text",
    "id": "UyFpyAlkPyxN"
   },
   "source": [
    "## Definindo o método numérico"
   ]
  },
  {
   "cell_type": "markdown",
   "metadata": {
    "colab_type": "text",
    "id": "Sw9sf1DXP7Fs"
   },
   "source": [
    "Uma vez introduzida a situação problema e as variáveis que serão usadas, podemos proceder com a programação. "
   ]
  },
  {
   "cell_type": "markdown",
   "metadata": {
    "colab_type": "text",
    "id": "V819vbbLbYhd"
   },
   "source": [
    "Primeiro, importamos as bibliotecas necessárias para o programa"
   ]
  },
  {
   "cell_type": "code",
   "execution_count": 0,
   "metadata": {
    "colab": {},
    "colab_type": "code",
    "id": "kVq7Af3yGHn0"
   },
   "outputs": [],
   "source": [
    "import numpy as np # Biblioteca para lidar com objetos N-dimensionais\n",
    "import matplotlib.pyplot as plt # Biblioteca grafica\n",
    "import math #Bliblioteca com funcoes matematicas"
   ]
  },
  {
   "cell_type": "markdown",
   "metadata": {
    "colab_type": "text",
    "id": "xO6seGLGQigK"
   },
   "source": [
    "Agora vamos definir os métodos numéricos"
   ]
  },
  {
   "cell_type": "code",
   "execution_count": 0,
   "metadata": {
    "colab": {},
    "colab_type": "code",
    "id": "fQ71rvHTQhnM"
   },
   "outputs": [],
   "source": [
    "# Phi de um metodo de primeira ordem (Euler)\n",
    "def euler(t, x, h, f):\n",
    "  return f( t, x )"
   ]
  },
  {
   "cell_type": "markdown",
   "metadata": {
    "colab_type": "text",
    "id": "UOI9mr4RSljC"
   },
   "source": [
    "## Definindo um problema"
   ]
  },
  {
   "cell_type": "markdown",
   "metadata": {
    "colab_type": "text",
    "id": "cFe1aQbzfYL3"
   },
   "source": [
    "Agora vamos tomar um exemplo simples EDO da forma: \\\\\n",
    "$ x'(t) = -\\lambda x(t) $ \\\\\n",
    "onde $\\lambda \\in \\mathbb{R}_{+}$. \\\\\n",
    "Para exercitar algumas ferramentas de programação verotial em Python, vamos transformar esse exemplo em um sistema de equações independentes da forma: \\\\\n",
    "$\n",
    "\\mathbf{x}'(t)=\n",
    "\\begin{bmatrix}\n",
    "-1 & 0 \\\\\n",
    "0 & -2 \\\\\n",
    "\\end{bmatrix}\n",
    "\\cdot \\mathbf{x}(t)\n",
    "$."
   ]
  },
  {
   "cell_type": "code",
   "execution_count": 0,
   "metadata": {
    "colab": {},
    "colab_type": "code",
    "id": "ociWzLcGN_wu"
   },
   "outputs": [],
   "source": [
    "# Definicao da funcao f\n",
    "\n",
    "# Inicialmente definimos as variaveis auxiliares\n",
    "A = np.array([[-1,0],[0,-2]],dtype=float)\n",
    "\n",
    "# Declaracao da funcao f(t,x) = Ax\n",
    "def func_linear( t, x ):\n",
    "  # Multiplicacao matricial\n",
    "  return np.matmul(A,x)"
   ]
  },
  {
   "cell_type": "markdown",
   "metadata": {
    "colab_type": "text",
    "id": "_zLnTP9wN7Hf"
   },
   "source": [
    "Precisamos estabelecer as condições iniciais do sistema. Vamos tomar neste exemplo o instante inicial como sendo $ t_0 = 0 $ e condição inicial \n",
    "$ x(0) =\n",
    "\\begin{bmatrix}\n",
    "1 \\\\\n",
    "1 \\\\\n",
    "\\end{bmatrix}$. \\\\\n",
    "Também precisamos de um instante de tempo para encerramento da execução e o número de subintervalos no qual dividiremos o intervalo de tempo. Vamos tomar $ t_f = 5 $ e $n=1000 $."
   ]
  },
  {
   "cell_type": "code",
   "execution_count": 0,
   "metadata": {
    "colab": {},
    "colab_type": "code",
    "id": "Lhi6mK4VHiIR"
   },
   "outputs": [],
   "source": [
    "x0 = np.array([1,1]) # Condicao Inicial\n",
    "t0 = 0 # Instante de tempo inicial\n",
    "tf = 5 # Instante de tempo final\n",
    "n = 1e3 # Número de passos"
   ]
  },
  {
   "cell_type": "markdown",
   "metadata": {
    "colab_type": "text",
    "id": "LkmsifliUp02"
   },
   "source": [
    "## Calculando a solução numérica"
   ]
  },
  {
   "cell_type": "markdown",
   "metadata": {
    "colab_type": "text",
    "id": "LXRMqYRPjrcq"
   },
   "source": [
    "Agora podemos elaborar o algoritmo de calculará $\\mathbf{x}_i$ por um método de passo único explícito."
   ]
  },
  {
   "cell_type": "code",
   "execution_count": 0,
   "metadata": {
    "colab": {},
    "colab_type": "code",
    "id": "Z8cK9fg8PjmG"
   },
   "outputs": [],
   "source": [
    "def ode_explicit( t_start, t_end, x_start, steps, f, phi ):\n",
    "  # Inicializacao de variaveis\n",
    "  t = np.linspace(t_start,t_end,int(steps+1),endpoint=True) # t_i's\n",
    "  x = np.zeros([len(x_start),int(steps+1)]) # x_i's\n",
    "  \n",
    "  h = (t_end-t_start)/steps\n",
    "\n",
    "  x[:,0] = x_start # Copia condicao inicial\n",
    "  for i in range(int(steps)):\n",
    "    x[:,i+1] = x[:,i] + h*phi(t[i],x[:,i],h,f)\n",
    "    \n",
    "  return t,x"
   ]
  },
  {
   "cell_type": "markdown",
   "metadata": {
    "colab_type": "text",
    "id": "edKlHypOWa2V"
   },
   "source": [
    "Vamos calcular a solução usando o método de Euler"
   ]
  },
  {
   "cell_type": "code",
   "execution_count": 0,
   "metadata": {
    "colab": {},
    "colab_type": "code",
    "id": "VhNWUppsWi8u"
   },
   "outputs": [],
   "source": [
    "t,x = ode_explicit( t0, tf, x0, steps = n, f = func_linear, phi = euler )"
   ]
  },
  {
   "cell_type": "markdown",
   "metadata": {
    "colab_type": "text",
    "id": "u0c1g3tiYFw6"
   },
   "source": [
    "## Visualizando a solução obtida"
   ]
  },
  {
   "cell_type": "markdown",
   "metadata": {
    "colab_type": "text",
    "id": "rfNt-1Tckpr8"
   },
   "source": [
    "Uma vez calculada a estimativa da solução da EDO, vamos gerar um gráfico para visualizá-la"
   ]
  },
  {
   "cell_type": "code",
   "execution_count": 7,
   "metadata": {
    "colab": {
     "base_uri": "https://localhost:8080/",
     "height": 350
    },
    "colab_type": "code",
    "executionInfo": {
     "elapsed": 1594,
     "status": "ok",
     "timestamp": 1564509301524,
     "user": {
      "displayName": "Lucas de Oliveira Lyra",
      "photoUrl": "https://lh6.googleusercontent.com/-RLvMcc53Lwg/AAAAAAAAAAI/AAAAAAAAAjc/UaXQT78bbj8/s64/photo.jpg",
      "userId": "11958719396868308868"
     },
     "user_tz": 180
    },
    "id": "yxVVdtgfVdgb",
    "outputId": "3261d2f0-b0ec-424c-e0c2-b4f3b72d8e47"
   },
   "outputs": [
    {
     "data": {
      "image/png": "[encoded data removed]",
      "text/plain": [
       "<Figure size 720x360 with 1 Axes>"
      ]
     },
     "metadata": {
      "tags": []
     },
     "output_type": "display_data"
    }
   ],
   "source": [
    "plt.figure(figsize=(10,5)) # Modificacao do tamanho do grafico\n",
    "\n",
    "# Plotar as componentes de x\n",
    "for i in range(x.shape[0]):\n",
    "    plt.plot(t, x[i,:], label = 'dimensao ' + str(i+1))\n",
    "  \n",
    "# Rotulos dos eixos\n",
    "plt.xlabel('t')\n",
    "plt.ylabel('x')\n",
    "\n",
    "# Titulo do grafico\n",
    "plt.title('Método de Euler (n = %d)'%(n))\n",
    "\n",
    "# Alterar limites inferior e superior do eixo x (use ylim para eixo y)\n",
    "plt.xlim([ t0, tf ])\n",
    "\n",
    "plt.grid(True) # Mostrar linhas de grade\n",
    "plt.legend() # Mostrar legenda\n",
    "plt.show() # Mostrar grafico"
   ]
  },
  {
   "cell_type": "markdown",
   "metadata": {
    "colab_type": "text",
    "id": "8gTwPrkA06BZ"
   },
   "source": [
    "Vamos agora tomar alguns poucos valores de $n$ e ver como as aproximações de comportam ao longo de todo o intervalo de tempo para uma dimensão de $\\mathbf{x}$."
   ]
  },
  {
   "cell_type": "code",
   "execution_count": 15,
   "metadata": {
    "colab": {
     "base_uri": "https://localhost:8080/",
     "height": 350
    },
    "colab_type": "code",
    "executionInfo": {
     "elapsed": 1115,
     "status": "ok",
     "timestamp": 1564509625147,
     "user": {
      "displayName": "Lucas de Oliveira Lyra",
      "photoUrl": "https://lh6.googleusercontent.com/-RLvMcc53Lwg/AAAAAAAAAAI/AAAAAAAAAjc/UaXQT78bbj8/s64/photo.jpg",
      "userId": "11958719396868308868"
     },
     "user_tz": 180
    },
    "id": "K4Bc-Rbb1mlv",
    "outputId": "c141f7bd-b7b0-46cf-9115-7b4a80191cf9"
   },
   "outputs": [
    {
     "data": {
      "image/png": "[encoded data removed]",
      "text/plain": [
       "<Figure size 720x360 with 1 Axes>"
      ]
     },
     "metadata": {
      "tags": []
     },
     "output_type": "display_data"
    }
   ],
   "source": [
    "plt.figure(figsize=(10,5))\n",
    "\n",
    "ns = [16, 32, 64]\n",
    "\n",
    "# Aproximacoes de x para diferentes n's\n",
    "for n in ns:\n",
    "  t,x = ode_explicit( t0, tf, x0, steps = n, f = func_linear, phi = euler)\n",
    "  plt.plot(t, x[0,:], label = 'n='+str(n))\n",
    "\n",
    "plt.xlabel('t')\n",
    "plt.ylabel('x')\n",
    "\n",
    "plt.title('Método de Euler (dimensao 1)')\n",
    "\n",
    "plt.xlim([ t0, tf ])\n",
    "\n",
    "plt.grid(True)\n",
    "plt.legend()\n",
    "plt.show()"
   ]
  },
  {
   "cell_type": "markdown",
   "metadata": {
    "colab_type": "text",
    "id": "VeKK4EDV4otX"
   },
   "source": [
    "## Estimando o erro cometido com solução conhecida"
   ]
  },
  {
   "cell_type": "markdown",
   "metadata": {
    "colab_type": "text",
    "id": "Fpn8cR6EIQvc"
   },
   "source": [
    "No caso do sistema do nosso exemplo, a solução analítica é conhecida e é dada por: \\\\\n",
    "$ \\mathbf{x}(t) = \n",
    "\\begin{bmatrix}\n",
    "e^{-t} \\\\\n",
    "e^{-2t} \n",
    "\\end{bmatrix}\n",
    "$"
   ]
  },
  {
   "cell_type": "markdown",
   "metadata": {
    "colab_type": "text",
    "id": "RgvT-OuZK707"
   },
   "source": [
    "Portanto, podemos calcular o erro cometido de forma exata. Vamos calcular o erro apenas no instante de tempo $t_f$ para diferentes valores de $n$ e verificar como o erro se comporta."
   ]
  },
  {
   "cell_type": "markdown",
   "metadata": {
    "colab_type": "text",
    "id": "0sRK0NLiOuFd"
   },
   "source": [
    "Como só estamos interessados no valor de $\\mathbf{x}_n$, que é a aproximação de $\\mathbf{x}(t_f)$, vamos criar uma função *ode_eval*, uma modificação da função *ode_explicit*, que não armazena $\\mathbf{x}_i$ para todo $i$ e, assim, economiza memória."
   ]
  },
  {
   "cell_type": "code",
   "execution_count": 0,
   "metadata": {
    "colab": {},
    "colab_type": "code",
    "id": "xIj7SViPPRE8"
   },
   "outputs": [],
   "source": [
    "# Modificacao de ode_explicit\n",
    "def ode_eval( t_start, t_end, x_start, steps, f, phi ):\n",
    "  # Inicializacao das variaveis\n",
    "  h = ( t_end - t_start )/steps\n",
    "  t = t_start\n",
    "  x = x_start.copy()\n",
    "  \n",
    "  for i in range(int(steps)):\n",
    "    # Variavel auxiliar para evitar modificacao de x na avaliacao da phi\n",
    "    aux = x.copy()\n",
    "    x = x + h*phi(t,aux,h,f)\n",
    "    t+= h # Atualizacao do instante de tempo\n",
    "    \n",
    "  return x"
   ]
  },
  {
   "cell_type": "markdown",
   "metadata": {
    "colab_type": "text",
    "id": "HUBKU8U8ruBm"
   },
   "source": [
    "Uma vez implementada a função *ode_eval* que nos retornará $\\mathbf{x}_n$, vamos proceder para calcular o erro para diferentes valores de $n$."
   ]
  },
  {
   "cell_type": "code",
   "execution_count": 0,
   "metadata": {
    "colab": {},
    "colab_type": "code",
    "id": "XN-lxAlt4uaG"
   },
   "outputs": [],
   "source": [
    "# Vetor com n's espacados logaritmicamente\n",
    "n = np.logspace( 5, 15, num=10, endpoint=False, base=2 )\n",
    "# Vetor para armazenar os erros para cada n\n",
    "erro = np.zeros(len(n))\n",
    "\n",
    "# Calculo da solucao conhecida do problema\n",
    "sol = np.array([ math.exp(-tf), math.exp(-2*tf) ])\n",
    "\n",
    "for i in range(len(n)):\n",
    "  # Calculo da norma da diferenca entre a solucao aproximada e a exata\n",
    "  erro[i] = np.linalg.norm( \n",
    "            ode_eval( t0, tf, x0, n[i], f=func_linear, phi=euler ) - sol )"
   ]
  },
  {
   "cell_type": "markdown",
   "metadata": {
    "colab_type": "text",
    "id": "Y9X1qtnZUT7n"
   },
   "source": [
    "Podemos agora verificar o comportamento do erro através de uma tabela ou graficamente"
   ]
  },
  {
   "cell_type": "code",
   "execution_count": 10,
   "metadata": {
    "colab": {
     "base_uri": "https://localhost:8080/",
     "height": 221
    },
    "colab_type": "code",
    "executionInfo": {
     "elapsed": 1763,
     "status": "ok",
     "timestamp": 1564509301772,
     "user": {
      "displayName": "Lucas de Oliveira Lyra",
      "photoUrl": "https://lh6.googleusercontent.com/-RLvMcc53Lwg/AAAAAAAAAAI/AAAAAAAAAjc/UaXQT78bbj8/s64/photo.jpg",
      "userId": "11958719396868308868"
     },
     "user_tz": 180
    },
    "id": "xsSR6Bi1UFf9",
    "outputId": "e2607c14-2e36-4f17-c6f0-0e0c4de3c65e"
   },
   "outputs": [
    {
     "name": "stdout",
     "output_type": "stream",
     "text": [
      "    n |  erro\n",
      "----------------\n",
      "   32 | 2.38e-03\n",
      "   64 | 1.26e-03\n",
      "  128 | 6.43e-04\n",
      "  256 | 3.25e-04\n",
      "  512 | 1.64e-04\n",
      " 1024 | 8.20e-05\n",
      " 2048 | 4.11e-05\n",
      " 4096 | 2.06e-05\n",
      " 8192 | 1.03e-05\n",
      "16384 | 5.14e-06\n"
     ]
    }
   ],
   "source": [
    "# Imprimir valores do erro\n",
    "print('%5s | %5s'%('n','erro'))\n",
    "print(16*'-')\n",
    "for i in range(len(n)):\n",
    "  print('%5d | %.2e'%(n[i],erro[i]))"
   ]
  },
  {
   "cell_type": "code",
   "execution_count": 11,
   "metadata": {
    "colab": {
     "base_uri": "https://localhost:8080/",
     "height": 341
    },
    "colab_type": "code",
    "executionInfo": {
     "elapsed": 2438,
     "status": "ok",
     "timestamp": 1564509302486,
     "user": {
      "displayName": "Lucas de Oliveira Lyra",
      "photoUrl": "https://lh6.googleusercontent.com/-RLvMcc53Lwg/AAAAAAAAAAI/AAAAAAAAAjc/UaXQT78bbj8/s64/photo.jpg",
      "userId": "11958719396868308868"
     },
     "user_tz": 180
    },
    "id": "UYSVxM05WUTf",
    "outputId": "43a786ed-3a86-4ab9-dd17-314bfc73429b"
   },
   "outputs": [
    {
     "data": {
      "image/png": "[encoded data removed]",
      "text/plain": [
       "<Figure size 720x360 with 1 Axes>"
      ]
     },
     "metadata": {
      "tags": []
     },
     "output_type": "display_data"
    }
   ],
   "source": [
    "# Plotar erro\n",
    "plt.figure( figsize = (10,5) )\n",
    "plt.loglog( n, erro ) # Grafico em escala logaritmica\n",
    "\n",
    "plt.xlabel('n')\n",
    "plt.ylabel('erro')\n",
    "\n",
    "plt.grid( True, which='minor' )\n",
    "plt.show()"
   ]
  },
  {
   "cell_type": "markdown",
   "metadata": {
    "colab_type": "text",
    "id": "-W_uwSS20rFM"
   },
   "source": [
    "## Estimando o erro cometido sem solução conhecida"
   ]
  },
  {
   "cell_type": "markdown",
   "metadata": {
    "colab_type": "text",
    "id": "5Rdq5uXvZqLp"
   },
   "source": [
    "Quando não possuimos a solução analítica do problema, não é possível calcular o valor exato do erro cometido. Precisamos, neste caso, estimar o erro."
   ]
  },
  {
   "cell_type": "markdown",
   "metadata": {
    "colab_type": "text",
    "id": "tGJy8plAajnE"
   },
   "source": [
    "Para um $h$ suficientemente pequeno, podemos aproximar o erro $e(t,h)$ cometido na aproximação da solução no instante $t$ com passo $h$ pela seguinte expressão: \\\\\n",
    "$ e(t,h) \\approx \\frac{\\|\\eta(t,2h)-\\eta(t,h)\\|}{2^p-1} $ \\\\\n",
    "onde $p$ é a ordem do método e $\\eta(t,h)$ é o valor estimado da solução no instante $t$ com passo $h$."
   ]
  },
  {
   "cell_type": "markdown",
   "metadata": {
    "colab_type": "text",
    "id": "Xl3q8N20gs_a"
   },
   "source": [
    "No caso do método de Euler, temos $p=1$."
   ]
  },
  {
   "cell_type": "code",
   "execution_count": 0,
   "metadata": {
    "colab": {},
    "colab_type": "code",
    "id": "UpEbOHrdXVuO"
   },
   "outputs": [],
   "source": [
    "n = np.logspace( 5, 15, num=10, endpoint=False, base=2 )\n",
    "erro = np.zeros(len(n))\n",
    "\n",
    "# Variavel para armazenar solucao da iteracao anterior\n",
    "prev = ode_eval( t0, tf, x0, n[0]/2, func_linear, euler )\n",
    "\n",
    "for i in range(len(n)):\n",
    "  h = ( tf - t0 )/n[i]\n",
    "  # Solucao da iteracao atual\n",
    "  curr = ode_eval( t0, tf, x0, n[i], func_linear, euler )\n",
    "  # Estimativa do erro\n",
    "  erro[i] = np.linalg.norm( curr - prev )\n",
    "  # Atualizacao da solucao da iteracao anterior\n",
    "  prev = curr.copy()"
   ]
  },
  {
   "cell_type": "code",
   "execution_count": 13,
   "metadata": {
    "colab": {
     "base_uri": "https://localhost:8080/",
     "height": 221
    },
    "colab_type": "code",
    "executionInfo": {
     "elapsed": 2396,
     "status": "ok",
     "timestamp": 1564509302489,
     "user": {
      "displayName": "Lucas de Oliveira Lyra",
      "photoUrl": "https://lh6.googleusercontent.com/-RLvMcc53Lwg/AAAAAAAAAAI/AAAAAAAAAjc/UaXQT78bbj8/s64/photo.jpg",
      "userId": "11958719396868308868"
     },
     "user_tz": 180
    },
    "id": "163N0zqkfW_C",
    "outputId": "c9717f1d-b10d-4587-a754-ecea9bdfae5d"
   },
   "outputs": [
    {
     "name": "stdout",
     "output_type": "stream",
     "text": [
      "    n |  erro\n",
      "----------------\n",
      "   32 | 1.86e-03\n",
      "   64 | 1.13e-03\n",
      "  128 | 6.12e-04\n",
      "  256 | 3.18e-04\n",
      "  512 | 1.62e-04\n",
      " 1024 | 8.16e-05\n",
      " 2048 | 4.10e-05\n",
      " 4096 | 2.05e-05\n",
      " 8192 | 1.03e-05\n",
      "16384 | 5.14e-06\n"
     ]
    }
   ],
   "source": [
    "# Imprimir valores do erro\n",
    "print('%5s | %5s'%('n','erro'))\n",
    "print(16*'-')\n",
    "for i in range(len(n)):\n",
    "  print('%5d | %.2e'%(n[i],erro[i]))"
   ]
  }
 ],
 "metadata": {
  "colab": {
   "collapsed_sections": [],
   "name": "map2220_programa-exemplo.ipynb",
   "provenance": [],
   "version": "0.3.2"
  },
  "kernelspec": {
   "display_name": "Python 3",
   "language": "python",
   "name": "python3"
  },
  "language_info": {
   "codemirror_mode": {
    "name": "ipython",
    "version": 3
   },
   "file_extension": ".py",
   "mimetype": "text/x-python",
   "name": "python",
   "nbconvert_exporter": "python",
   "pygments_lexer": "ipython3",
   "version": "3.6.8"
  }
 },
 "nbformat": 4,
 "nbformat_minor": 1
}
