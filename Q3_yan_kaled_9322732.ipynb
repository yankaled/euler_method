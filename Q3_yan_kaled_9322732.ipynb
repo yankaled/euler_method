{
 "cells": [
  {
   "cell_type": "markdown",
   "metadata": {},
   "source": [
    "## Tarefa 1: Métodos de um Passo"
   ]
  },
  {
   "cell_type": "markdown",
   "metadata": {},
   "source": [
    "### Questão 3"
   ]
  },
  {
   "cell_type": "markdown",
   "metadata": {},
   "source": [
    "Neste estudo, vamos aproximar o valor da segunda coordenada, $y$, da trajetória de um robô, cuja velocidade, para tal coordenada, é:\n",
    "\n",
    "$$\n",
    "\\dot{y}(t) = e^{t}\\left( sin(wt) + wcos(wt) \\right)\n",
    "$$\n",
    "\n",
    "Partindo do ponto $y(0) = 1$, e com $w = 2$ radianos por segundo.\n",
    "\n",
    "Usaremos o método de Euler, um tradicional método de passo único, e sua versão modificada - o método de Euler modificado.\n",
    "Os métodos de passo único calculam recursivamente as soluções de uma equação diferencial ordinária, de acordo com a forma geral $y_{k+1} = y_{k} + \\Delta t \\phi(t_k, y_k, n)$, onde $\\Delta t = \\dfrac{t_f - t_0}{n}$, com $t_k \\in \\{t_0, t_1, \\cdots, t_f\\}$, e $t_0$ e $t_f$ definindo o intervalo de aproximação.\n",
    "\n",
    "A função $\\phi$ depende do método utilizado, e equivale, no método de Euler, à função $f(t, y(t))$ - pré-definida e que modela a variação de $y$ com $t$ no problema proposto. A lógica de construção do método de Euler vem da consideração de uma expressão aproximada para a derivada de uma função $y$:\n",
    "\n",
    "$$\n",
    "\\dot{y}(t) \\approx \\dfrac{y(t + \\Delta t) - y(t)}{\\Delta t}\n",
    "$$\n",
    "\n",
    "Daí, temos que $y(t + \\Delta t) \\approx \\Delta t \\dot{y}(t) + y(t) = \\Delta t f(t,y(t)) + y(t)$, e essa expressão induz a definição do método:\n",
    "\n",
    "$$\n",
    "y_{k+1} = y_k + \\Delta t f(t,y(t)) \\\\\n",
    "t_{k+1} = t_k + k\\Delta t\n",
    "$$\n",
    "\n",
    "Comparando a expressão da aproximação da derivada da função $y$ com a derivada exata:\n",
    "\n",
    "$$\n",
    "\\dot{y}(t) = \\lim_{\\Delta t \\to 0 } \\dfrac{y(t + \\Delta t) - y(t)}{\\Delta t}\n",
    "$$\n",
    "\n",
    "Notamos que, conforme $\\Delta t$ se aproxima de $0$, a erro do método de Euler deve tender à $0$ - como é demonstrado na teoria do método. Em particular, temos que o método de Euler é de ordem 1, que, em notação, é escrito como: $e_{euler} = \\mathcal{O}(\\Delta t) \\Rightarrow | e_{euler} | \\leq C \\Delta t$, tal que $C$ é constante - no sentido de não depender de $\\Delta t$ - e que o método de Euler modificado é de ordem 2."
   ]
  },
  {
   "cell_type": "markdown",
   "metadata": {},
   "source": [
    "### Implementação"
   ]
  },
  {
   "cell_type": "code",
   "execution_count": 25,
   "metadata": {},
   "outputs": [],
   "source": [
    "#as bibliotecas numpy, matplotlib e math serão usadas ao longo do estudo\n",
    "import numpy as np\n",
    "import matplotlib.pyplot as plt\n",
    "import math"
   ]
  },
  {
   "cell_type": "markdown",
   "metadata": {},
   "source": [
    "Vamos definir a função $f$ do problema, tal que:\n",
    "\n",
    "$$\n",
    "\\dot{y}(t) = f(t, y(t))\n",
    "$$"
   ]
  },
  {
   "cell_type": "code",
   "execution_count": 3,
   "metadata": {},
   "outputs": [],
   "source": [
    "#as funções cos e sin da biblioteca math recebem valores em radianos\n",
    "def f(t_k, y_k):\n",
    "    return math.exp(t_k)*(math.sin(2*t_k) + 2*math.cos(2*t_k))"
   ]
  },
  {
   "cell_type": "markdown",
   "metadata": {},
   "source": [
    "O problema proposto induz a aproximação da função no intervalo $[0, 1]$, pois $t_0 = 0$, e queremos aproximar $y(1)$ - ou seja, $t_f = 1$. Analisaremos os resultados do método para diversos valores de $n$.\n",
    "\n",
    "Agora, vamos definir uma função genérica para métodos de passo único, que pode ser utilizada para implementar o método de Euler, Euler modificado, e qualquer outro método desse tipo, bastando trocar a função $\\phi$ na chamada. Vamos definir, também, as funções $\\phi$ dos métodos de Euler e Euler modificado."
   ]
  },
  {
   "cell_type": "code",
   "execution_count": 4,
   "metadata": {},
   "outputs": [],
   "source": [
    "def ode_passo_unico(t0, tf, n, f, PHI, y0):\n",
    "    y = np.zeros(n)\n",
    "    y[0] = y0\n",
    "    delta = (tf - t0) / n\n",
    "    t = 0\n",
    "    ts =[]\n",
    "    ts.append(t)\n",
    "    for k in range(0, n-1):\n",
    "        y[k+1] = y[k] + delta * PHI(t, y[k], delta, f)\n",
    "        t = t + delta\n",
    "        ts.append(t)\n",
    "        \n",
    "    return ts,y"
   ]
  },
  {
   "cell_type": "code",
   "execution_count": 7,
   "metadata": {},
   "outputs": [],
   "source": [
    "#Esta função corresponde à phi do método de euler modificado\n",
    "def phi_euler_modificado(tk, yk, delta, f):\n",
    "    return 0.5 * (f(tk, yk) + f(tk + delta, yk + delta*f(tk, yk)))"
   ]
  },
  {
   "cell_type": "code",
   "execution_count": 8,
   "metadata": {},
   "outputs": [],
   "source": [
    "#Esta função corresponde à phi do método de euler\n",
    "def phi_euler(tk, yk, delta, f):\n",
    "    return f(tk, yk)"
   ]
  },
  {
   "cell_type": "markdown",
   "metadata": {},
   "source": [
    "Integrando a função $\\dot{y}(t)$, pelo teorema fundamental do cálculo, encontramos a função $y(t)$:\n",
    "\n",
    "$$\n",
    "\\int \\dot{y}(t) dt = \\int e^{t}\\left( sin(wt) + wcos(wt) \\right) dt = e^t sin(wt) + C\n",
    "$$\n",
    "\n",
    "Pela condição inicial do problema, $y(0) = 1$, segue que $C = 1$."
   ]
  },
  {
   "cell_type": "code",
   "execution_count": 9,
   "metadata": {},
   "outputs": [],
   "source": [
    "def Y(t):\n",
    "    return math.exp(t)*math.sin(2*t) + 1"
   ]
  },
  {
   "cell_type": "code",
   "execution_count": 10,
   "metadata": {},
   "outputs": [
    {
     "data": {
      "text/plain": [
       "3.4717266720048188"
      ]
     },
     "execution_count": 10,
     "metadata": {},
     "output_type": "execute_result"
    }
   ],
   "source": [
    "#Invocando a função no ponto 1, conseguimos, no python, o valor mais próximo do valor teórico\n",
    "Y(1)"
   ]
  },
  {
   "cell_type": "markdown",
   "metadata": {},
   "source": [
    "### Resultados"
   ]
  },
  {
   "cell_type": "markdown",
   "metadata": {},
   "source": [
    "Agora, analisaremos os resultados dos dois métodos: Euler e Euler modificado."
   ]
  },
  {
   "cell_type": "code",
   "execution_count": 24,
   "metadata": {},
   "outputs": [
    {
     "data": {
      "image/png": "[encoded data removed]",
      "text/plain": [
       "<Figure size 432x288 with 1 Axes>"
      ]
     },
     "metadata": {
      "needs_background": "light"
     },
     "output_type": "display_data"
    }
   ],
   "source": [
    "plt.figure()\n",
    "\n",
    "ns = [4, 8, 16, 32, 64]\n",
    "\n",
    "# Aproximacoes de x para diferentes n's\n",
    "for n in ns:\n",
    "    T, Y_ = ode_passo_unico(0.0, 1.0, n, f, phi_euler, 1.0)\n",
    "    plt.plot(T, Y_, label = 'n='+str(n))\n",
    "\n",
    "plt.title('Euler')\n",
    "plt.xlabel('t')\n",
    "plt.ylabel('y(t)')\n",
    "\n",
    "plt.grid(True)\n",
    "plt.legend()\n",
    "plt.show()"
   ]
  },
  {
   "cell_type": "markdown",
   "metadata": {},
   "source": [
    "Nota-se que, com o método de euler, a partir de $n=16$, as linhas ficam \"grudadas\" a olho nu. Vamos analisar o erro desse método, comparando o resultado aproximado de $y(1)$ com o resultado - mais próximo do - real encontrado a partir da chamada da função $Y$ definida acima. Para melhor visualização do comportamento assintótico do erro, vamos calculá-lo até $n=1024$."
   ]
  },
  {
   "cell_type": "code",
   "execution_count": 31,
   "metadata": {},
   "outputs": [
    {
     "data": {
      "text/plain": [
       "[<matplotlib.lines.Line2D at 0x7f0fba7b1cd0>]"
      ]
     },
     "execution_count": 31,
     "metadata": {},
     "output_type": "execute_result"
    },
    {
     "data": {
      "image/png": "[encoded data removed]",
      "text/plain": [
       "<Figure size 432x288 with 1 Axes>"
      ]
     },
     "metadata": {
      "needs_background": "light"
     },
     "output_type": "display_data"
    }
   ],
   "source": [
    "ns = [4, 8, 16, 32, 64, 128, 256, 512, 1024]\n",
    "erro = []\n",
    "for n in ns:\n",
    "    T, Y_ = ode_passo_unico(0.0, 1.0, n, f, phi_euler, 1.0)\n",
    "    erro.append(Y_[-1] - Y(1))\n",
    "erro_euler = [math.fabs(e) for e in erro]\n",
    "ns = ['4', '8', '16', '32', '64', '128', '256', '512', '1024']\n",
    "\n",
    "plt.figure()\n",
    "plt.title('Erro de Euler')\n",
    "plt.xlabel('n')\n",
    "plt.ylabel('Erro')\n",
    "plt.plot(ns, erro_euler, 'o-')"
   ]
  },
  {
   "cell_type": "markdown",
   "metadata": {},
   "source": [
    "No gráfico acima, o $n$ é tratado como uma variável categórica. A forma do gráfico, todavia, sugere uma observação interessante: o decrescimento do erro de euler $e_{euler}$ em função do $n$ não é linear - apesar do método ser de ordem 1. Vamos verificar os erros:"
   ]
  },
  {
   "cell_type": "code",
   "execution_count": 33,
   "metadata": {},
   "outputs": [
    {
     "data": {
      "text/plain": [
       "[0.46216714042697093,\n",
       " 0.0970089587551679,\n",
       " 0.005891464381114542,\n",
       " 0.00886256147598452,\n",
       " 0.007527406201564446,\n",
       " 0.004555669895404346,\n",
       " 0.0024780624801192808,\n",
       " 0.0012893671687113084,\n",
       " 0.000657302418441752]"
      ]
     },
     "execution_count": 33,
     "metadata": {},
     "output_type": "execute_result"
    }
   ],
   "source": [
    "erro_euler"
   ]
  },
  {
   "cell_type": "markdown",
   "metadata": {},
   "source": [
    "Para analisarmos essa questão mais a fundo, vamos construir um gráfico com espaçamento unitário em $n$. "
   ]
  },
  {
   "cell_type": "code",
   "execution_count": 29,
   "metadata": {},
   "outputs": [
    {
     "data": {
      "text/plain": [
       "[<matplotlib.lines.Line2D at 0x7f0fba7b1550>]"
      ]
     },
     "execution_count": 29,
     "metadata": {},
     "output_type": "execute_result"
    },
    {
     "data": {
      "image/png": "[encoded data removed]",
      "text/plain": [
       "<Figure size 432x288 with 1 Axes>"
      ]
     },
     "metadata": {
      "needs_background": "light"
     },
     "output_type": "display_data"
    }
   ],
   "source": [
    "erro = []\n",
    "for n in range(100, 10000):\n",
    "    T, Y_ = ode_passo_unico(0.0, 1.0, n, f, phi_euler, 1.0)\n",
    "    erro.append(Y_[-1] - Y(1))\n",
    "erro_euler = [math.fabs(e) for e in erro]\n",
    "\n",
    "plt.figure()\n",
    "plt.title('Erro de Euler')\n",
    "plt.xlabel('n')\n",
    "plt.ylabel('Erro')\n",
    "plt.plot(erro_euler)"
   ]
  },
  {
   "cell_type": "markdown",
   "metadata": {},
   "source": [
    "O método de Euler é de ordem 1, ou seja, $| e_{euler} | \\leq C \\Delta t$, para uma  constante $C$. Como $\\Delta t = \\dfrac{t_{f} - t_0}{n}$, chamando $K = C(t_f  - t_0)$, segue que $| e_{euler} | \\leq K \\dfrac{1}{n}$, e, aproximando como visto em aula, $| e_{euler} | \\approx K \\dfrac{1}{n}$. Isso nos mostra que, de fato, o gráfico do erro em função de $n$ deve ter o formato do gráfico acima.\n",
    "\n",
    "Agora, vamos analisar os resultados do método de euler modificado."
   ]
  },
  {
   "cell_type": "code",
   "execution_count": 26,
   "metadata": {},
   "outputs": [
    {
     "data": {
      "image/png": "[encoded data removed]",
      "text/plain": [
       "<Figure size 432x288 with 1 Axes>"
      ]
     },
     "metadata": {
      "needs_background": "light"
     },
     "output_type": "display_data"
    }
   ],
   "source": [
    "plt.figure()\n",
    "\n",
    "ns = [4, 8, 16, 32, 64]\n",
    "\n",
    "# Aproximacoes de x para diferentes n's\n",
    "for n in ns:\n",
    "    T, Y_ = euler_modificado(0.0, 1.0, n, f, phi, 1.0)\n",
    "    plt.plot(T, Y_, label = 'n='+str(n))\n",
    "\n",
    "plt.title('Euler Modificado')\n",
    "plt.xlabel('t')\n",
    "plt.ylabel('y(t)')\n",
    "\n",
    "plt.grid(True)\n",
    "plt.legend()\n",
    "plt.show()"
   ]
  },
  {
   "cell_type": "markdown",
   "metadata": {},
   "source": [
    "Mais uma vez, notamos que a partir de $n=16$ as funções se tornam muito próximas visualmente. Agora, vamos analisar o erro desse método:"
   ]
  },
  {
   "cell_type": "code",
   "execution_count": 35,
   "metadata": {},
   "outputs": [
    {
     "data": {
      "text/plain": [
       "[<matplotlib.lines.Line2D at 0x7f0fba6a19d0>]"
      ]
     },
     "execution_count": 35,
     "metadata": {},
     "output_type": "execute_result"
    },
    {
     "data": {
      "image/png": "[encoded data removed]",
      "text/plain": [
       "<Figure size 432x288 with 1 Axes>"
      ]
     },
     "metadata": {
      "needs_background": "light"
     },
     "output_type": "display_data"
    }
   ],
   "source": [
    "ns = [4, 8, 16, 32, 64, 128, 256, 512, 1024]\n",
    "erro = []\n",
    "for n in ns:\n",
    "    T, Y_ = ode_passo_unico(0.0, 1.0, n, f, phi_euler_modificado, 1.0)\n",
    "    erro.append(Y_[-1] - Y(1))\n",
    "erro_euler_modificado = [math.fabs(e) for e in erro]\n",
    "ns = ['4', '8', '16', '32', '64', '128', '256', '512', '1024']\n",
    "\n",
    "plt.figure()\n",
    "plt.title('Erro de Euler Modificado')\n",
    "plt.xlabel('n')\n",
    "plt.ylabel('Erro')\n",
    "plt.plot(ns, erro_euler_modificado, 'o-')"
   ]
  },
  {
   "cell_type": "markdown",
   "metadata": {},
   "source": [
    "Vemos um formato semelhante ao erro do método de Euler. O mesmo raciocínio que foi utilizado para inferirmos um formato para gráficos de erro do método de Euler em função de $n$ pode ser utilizado para o Euler modificado, resultando em $| e_{modificado} | \\approx K_{2}\\dfrac{1}{n^2}$, onde $K_{2} = C(t_f - t_0)^2$. A partir daí, é possível inferir o formato desse tipo de gráfico para qualquer método de ordem $p$: $| e_{p} | \\approx K_{p}\\dfrac{1}{n^p}$ tal que $K_{p} = C(t_f - t_0)^p$ e $e_{p}$ é o erro de um método de ordem $p$.\n",
    "\n",
    "Vamos verificar o os erros do método de euler modificado:"
   ]
  },
  {
   "cell_type": "code",
   "execution_count": 36,
   "metadata": {},
   "outputs": [
    {
     "data": {
      "text/plain": [
       "[0.4107673632490756,\n",
       " 0.1279289925503302,\n",
       " 0.04006108355231497,\n",
       " 0.013477637964465217,\n",
       " 0.005028596404772934,\n",
       " 0.0020777766821167276,\n",
       " 0.0009286401590298254,\n",
       " 0.0004366185184161431,\n",
       " 0.00021136644342600874]"
      ]
     },
     "execution_count": 36,
     "metadata": {},
     "output_type": "execute_result"
    }
   ],
   "source": [
    "erro_euler_modificado"
   ]
  },
  {
   "cell_type": "code",
   "execution_count": 80,
   "metadata": {},
   "outputs": [
    {
     "data": {
      "text/plain": [
       "[<matplotlib.lines.Line2D at 0x7f0fba0cd910>]"
      ]
     },
     "execution_count": 80,
     "metadata": {},
     "output_type": "execute_result"
    },
    {
     "data": {
      "image/png": "[encoded data removed]",
      "text/plain": [
       "<Figure size 432x288 with 1 Axes>"
      ]
     },
     "metadata": {
      "needs_background": "light"
     },
     "output_type": "display_data"
    }
   ],
   "source": [
    "erro = []\n",
    "for n in range(100, 10000):\n",
    "    T, Y_ = ode_passo_unico(0.0, 1.0, n, f, phi_euler_modificado, 1.0)\n",
    "    erro.append(Y_[-1] - Y(1))\n",
    "erro_euler_modificado = [math.fabs(e) for e in erro]\n",
    "\n",
    "plt.figure()\n",
    "plt.title('Erro de Euler Modificado')\n",
    "plt.xlabel('n')\n",
    "plt.ylabel('Erro')\n",
    "plt.plot(erro_euler_modificado)"
   ]
  },
  {
   "cell_type": "code",
   "execution_count": 92,
   "metadata": {},
   "outputs": [
    {
     "data": {
      "text/plain": [
       "<matplotlib.legend.Legend at 0x7f0fb9dd3dd0>"
      ]
     },
     "execution_count": 92,
     "metadata": {},
     "output_type": "execute_result"
    },
    {
     "data": {
      "image/png": "[encoded data removed]",
      "text/plain": [
       "<Figure size 432x288 with 1 Axes>"
      ]
     },
     "metadata": {
      "needs_background": "light"
     },
     "output_type": "display_data"
    }
   ],
   "source": [
    "plt.figure()\n",
    "plt.title('Compara')\n",
    "plt.xlabel('n')\n",
    "plt.ylabel('Erro')\n",
    "plt.plot(erro_euler_modificado, label=\"modificado\")\n",
    "plt.plot(erro_euler, label=\"euler\")\n",
    "plt.legend()"
   ]
  },
  {
   "cell_type": "code",
   "execution_count": 94,
   "metadata": {},
   "outputs": [
    {
     "data": {
      "text/plain": [
       "0.3067750603730076"
      ]
     },
     "execution_count": 94,
     "metadata": {},
     "output_type": "execute_result"
    }
   ],
   "source": [
    "erro_euler_modificado[-1]/erro_euler[-1]"
   ]
  },
  {
   "cell_type": "markdown",
   "metadata": {},
   "source": [
    "## EXPERIMENTOS"
   ]
  },
  {
   "cell_type": "code",
   "execution_count": 84,
   "metadata": {},
   "outputs": [],
   "source": [
    "razao_modificado = []\n",
    "for i in range(len(erro_euler_modificado) - 1):\n",
    "    r = erro_euler_modificado[i]/erro_euler_modificado[i+1]\n",
    "    base = (i + 101.0)/(i + 100.0)\n",
    "    razao_modificado.append(math.log(r, base))"
   ]
  },
  {
   "cell_type": "code",
   "execution_count": 85,
   "metadata": {},
   "outputs": [
    {
     "data": {
      "text/plain": [
       "[<matplotlib.lines.Line2D at 0x7f0fb9f7c690>]"
      ]
     },
     "execution_count": 85,
     "metadata": {},
     "output_type": "execute_result"
    },
    {
     "data": {
      "image/png": "[encoded data removed]",
      "text/plain": [
       "<Figure size 432x288 with 1 Axes>"
      ]
     },
     "metadata": {
      "needs_background": "light"
     },
     "output_type": "display_data"
    }
   ],
   "source": [
    "plt.plot(razao_modificado)"
   ]
  },
  {
   "cell_type": "code",
   "execution_count": 78,
   "metadata": {},
   "outputs": [],
   "source": [
    "razao_euler = []\n",
    "for i in range(len(erro_euler) - 1):\n",
    "    r = erro_euler[i]/erro_euler[i+1]\n",
    "    base = (1.0/(i+100.0))/(1.0/(i+101.0))\n",
    "    razao_euler.append(math.log(r, base))"
   ]
  },
  {
   "cell_type": "code",
   "execution_count": 79,
   "metadata": {},
   "outputs": [
    {
     "data": {
      "text/plain": [
       "[<matplotlib.lines.Line2D at 0x7f0fba199f10>]"
      ]
     },
     "execution_count": 79,
     "metadata": {},
     "output_type": "execute_result"
    },
    {
     "data": {
      "image/png": "[encoded data removed]",
      "text/plain": [
       "<Figure size 432x288 with 1 Axes>"
      ]
     },
     "metadata": {
      "needs_background": "light"
     },
     "output_type": "display_data"
    }
   ],
   "source": [
    "plt.plot(razao_euler)"
   ]
  },
  {
   "cell_type": "markdown",
   "metadata": {},
   "source": [
    "Como era esperado, o erro decresce mais rapidamente"
   ]
  },
  {
   "cell_type": "markdown",
   "metadata": {},
   "source": [
    "A convergência do método de euler modificado é mais rápida, como esperado."
   ]
  },
  {
   "cell_type": "markdown",
   "metadata": {},
   "source": [
    "### Conclusão"
   ]
  },
  {
   "cell_type": "markdown",
   "metadata": {},
   "source": [
    "Notamos que os dois métodos convergem rápido e, por volta de $n=16$, os gráficos se tornam próximos visualmente. Além disso, verificamos que a convergência do método de euler modificado é mais rápida que a convergência do método de euler tradicional - dado que o erro do método modificado converge à zero mais rapidamente."
   ]
  }
 ],
 "metadata": {
  "kernelspec": {
   "display_name": "Python 3",
   "language": "python",
   "name": "python3"
  },
  "language_info": {
   "codemirror_mode": {
    "name": "ipython",
    "version": 2
   },
   "file_extension": ".py",
   "mimetype": "text/x-python",
   "name": "python",
   "nbconvert_exporter": "python",
   "pygments_lexer": "ipython2",
   "version": "2.7.15+"
  }
 },
 "nbformat": 4,
 "nbformat_minor": 2
}
